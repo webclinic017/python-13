{
 "cells": [
  {
   "cell_type": "code",
   "execution_count": null,
   "metadata": {},
   "outputs": [],
   "source": [
    "from binance import Client\n",
    "import personal_function as pf\n",
    "import pandas as pd\n",
    "import numpy as np\n",
    "import mplfinance as mpf"
   ]
  },
  {
   "cell_type": "code",
   "execution_count": null,
   "metadata": {},
   "outputs": [],
   "source": [
    "client=pf.client()\n",
    "\n",
    "KlinesType ='SPOT'\n",
    "symbol ='ETHBTC'\n",
    "interval = '1d' # 30m, 4h,8h,12h,3d,1w\n",
    "start_date ='1 Jan 2011'\n",
    "end_date = '1 Jan 2021'\n",
    "#limit = 500\n",
    "hist_df=pf.historical_data(client,symbol, interval, start_date, end_date, KlinesType)"
   ]
  },
  {
   "cell_type": "code",
   "execution_count": null,
   "metadata": {},
   "outputs": [],
   "source": [
    "mpf.plot(hist_df.set_index('Close Time').tail(100), type='candle', style= 'charles',mav=20)"
   ]
  }
 ],
 "metadata": {
  "interpreter": {
   "hash": "c42c480c2f06a2b9d3e9a9953945f745ed043d316a7ab7d2603780bb941d54fd"
  },
  "kernelspec": {
   "display_name": "Python 3.9.11 64-bit (windows store)",
   "language": "python",
   "name": "python3"
  },
  "language_info": {
   "codemirror_mode": {
    "name": "ipython",
    "version": 3
   },
   "file_extension": ".py",
   "mimetype": "text/x-python",
   "name": "python",
   "nbconvert_exporter": "python",
   "pygments_lexer": "ipython3",
   "version": "3.9.11"
  },
  "orig_nbformat": 4
 },
 "nbformat": 4,
 "nbformat_minor": 2
}
