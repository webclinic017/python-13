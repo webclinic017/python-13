{
 "cells": [
  {
   "cell_type": "code",
   "execution_count": 3,
   "metadata": {},
   "outputs": [
    {
     "name": "stdout",
     "output_type": "stream",
     "text": [
      "Starting Portfolio Value: 100000.00\n",
      "Final Portfolio Value: 100000.00\n"
     ]
    }
   ],
   "source": [
    "from __future__ import (absolute_import, division, print_function,\n",
    "                        unicode_literals)\n",
    "#  __future__  is a built-in module in Python that is used to inherit new features that will be available in the new Python versions.. \n",
    "\n",
    "import backtrader as bt\n",
    "\n",
    "if __name__ == '__main__': \n",
    "    # __name__ variable, whether you want a file that can be run as the main program or imported by other modules. \n",
    "    # if __name__ == \"__main__\" block to allow or prevent parts of code from being run when the modules are imported.\n",
    "    cerebro = bt.Cerebro()\n",
    "    cerebro.broker.setcash(100000.0)\n",
    "\n",
    "    print('Starting Portfolio Value: %.2f' % cerebro.broker.getvalue())\n",
    "\n",
    "    cerebro.run()\n",
    "\n",
    "    print('Final Portfolio Value: %.2f' % cerebro.broker.getvalue())"
   ]
  }
 ],
 "metadata": {
  "interpreter": {
   "hash": "c42c480c2f06a2b9d3e9a9953945f745ed043d316a7ab7d2603780bb941d54fd"
  },
  "kernelspec": {
   "display_name": "Python 3.9.12 64-bit (windows store)",
   "language": "python",
   "name": "python3"
  },
  "language_info": {
   "codemirror_mode": {
    "name": "ipython",
    "version": 3
   },
   "file_extension": ".py",
   "mimetype": "text/x-python",
   "name": "python",
   "nbconvert_exporter": "python",
   "pygments_lexer": "ipython3",
   "version": "3.9.12"
  },
  "orig_nbformat": 4
 },
 "nbformat": 4,
 "nbformat_minor": 2
}
