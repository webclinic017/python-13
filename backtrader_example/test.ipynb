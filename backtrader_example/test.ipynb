{
 "cells": [
  {
   "cell_type": "code",
   "execution_count": 6,
   "metadata": {},
   "outputs": [
    {
     "ename": "NameError",
     "evalue": "name 'Indicator' is not defined",
     "output_type": "error",
     "traceback": [
      "\u001b[1;31m---------------------------------------------------------------------------\u001b[0m",
      "\u001b[1;31mNameError\u001b[0m                                 Traceback (most recent call last)",
      "\u001b[1;32mc:\\Users\\truon\\Desktop\\Finance\\Programing\\backtrader\\test.ipynb Cell 1'\u001b[0m in \u001b[0;36m<cell line: 12>\u001b[1;34m()\u001b[0m\n\u001b[0;32m      <a href='vscode-notebook-cell:/c%3A/Users/truon/Desktop/Finance/Programing/backtrader/test.ipynb#ch0000000?line=8'>9</a>\u001b[0m \u001b[39mimport\u001b[39;00m \u001b[39mbacktrader\u001b[39;00m \u001b[39mas\u001b[39;00m \u001b[39mbt\u001b[39;00m\n\u001b[0;32m     <a href='vscode-notebook-cell:/c%3A/Users/truon/Desktop/Finance/Programing/backtrader/test.ipynb#ch0000000?line=10'>11</a>\u001b[0m \u001b[39m# Create a Stratey\u001b[39;00m\n\u001b[1;32m---> <a href='vscode-notebook-cell:/c%3A/Users/truon/Desktop/Finance/Programing/backtrader/test.ipynb#ch0000000?line=11'>12</a>\u001b[0m \u001b[39mclass\u001b[39;00m \u001b[39mSimpleMovingAverage\u001b[39;00m(Indicator):\n\u001b[0;32m     <a href='vscode-notebook-cell:/c%3A/Users/truon/Desktop/Finance/Programing/backtrader/test.ipynb#ch0000000?line=12'>13</a>\u001b[0m     lines \u001b[39m=\u001b[39m (\u001b[39m'\u001b[39m\u001b[39msma\u001b[39m\u001b[39m'\u001b[39m,)\n\u001b[0;32m     <a href='vscode-notebook-cell:/c%3A/Users/truon/Desktop/Finance/Programing/backtrader/test.ipynb#ch0000000?line=13'>14</a>\u001b[0m     params \u001b[39m=\u001b[39m \u001b[39mdict\u001b[39m(period\u001b[39m=\u001b[39m\u001b[39m20\u001b[39m)\n",
      "\u001b[1;31mNameError\u001b[0m: name 'Indicator' is not defined"
     ]
    }
   ],
   "source": [
    "from __future__ import (absolute_import, division, print_function,\n",
    "                        unicode_literals)\n",
    "\n",
    "import datetime  # For datetime objects\n",
    "import os.path  # To manage paths\n",
    "import sys  # To find out the script name (in argv[0])\n",
    "\n",
    "# Import the backtrader platform\n",
    "import backtrader as bt\n",
    "\n",
    "# Create a Stratey\n",
    "class SimpleMovingAverage(Indicator):\n",
    "    lines = ('sma',)\n",
    "    params = dict(period=20)\n",
    "\n",
    "    def __init__(self):\n",
    "        ...  # Not relevant for the explanation\n",
    "\n",
    "    def prenext(self):\n",
    "        print('prenext:: current period:', len(self))\n",
    "\n",
    "    def nextstart(self):\n",
    "        print('nextstart:: current period:', len(self))\n",
    "        # emulate default behavior ... call next\n",
    "        self.next()\n",
    "\n",
    "    def next(self):\n",
    "        print('next:: current period:', len(self))\n",
    "\n",
    "\n",
    "if __name__ == '__main__':\n",
    "    # Create a cerebro entity\n",
    "    cerebro = bt.Cerebro()\n",
    "    \n",
    "    # Add a strategy\n",
    "    # Datas are in a subfolder of the samples. Need to find where the script is\n",
    "    # because it could have been called from anywhere\n",
    "    #modpath = os.path.dirname(os.path.abspath(sys.argv[0]))\n",
    "    #datapath = os.path.join(modpath, '../../datas/orcl-1995-2014.txt')\n",
    "\n",
    "    # Create a Data Feed\n",
    "    data = bt.feeds.YahooFinanceCSVData(\n",
    "        dataname='orcl-1995-2014.txt',\n",
    "        # Do not pass values before this date\n",
    "        fromdate=datetime.datetime(2000, 1, 1),\n",
    "        # Do not pass values after this date\n",
    "        todate=datetime.datetime(2000, 12, 31),\n",
    "        reverse=False)\n",
    "\n",
    "    # Add the Data Feed to Cerebro\n",
    "    cerebro.adddata(data)\n",
    "    # Set our desired cash start\n",
    "    cerebro.broker.setcash(100000.0)\n",
    "    sma = btind.SimpleMovingAverage(self.data, period=25)"
   ]
  }
 ],
 "metadata": {
  "interpreter": {
   "hash": "c42c480c2f06a2b9d3e9a9953945f745ed043d316a7ab7d2603780bb941d54fd"
  },
  "kernelspec": {
   "display_name": "Python 3.9.12 64-bit (windows store)",
   "language": "python",
   "name": "python3"
  },
  "language_info": {
   "codemirror_mode": {
    "name": "ipython",
    "version": 3
   },
   "file_extension": ".py",
   "mimetype": "text/x-python",
   "name": "python",
   "nbconvert_exporter": "python",
   "pygments_lexer": "ipython3",
   "version": "3.9.12"
  },
  "orig_nbformat": 4
 },
 "nbformat": 4,
 "nbformat_minor": 2
}
